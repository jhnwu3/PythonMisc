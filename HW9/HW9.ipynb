{
 "cells": [
  {
   "cell_type": "markdown",
   "metadata": {},
   "source": [
    "# John Wu\n",
    "# CSE 5524\n",
    "# 10/28/22\n",
    "### Libraries"
   ]
  },
  {
   "cell_type": "code",
   "execution_count": 28,
   "metadata": {},
   "outputs": [],
   "source": [
    "%matplotlib inline\n",
    "import numpy as np\n",
    "import matplotlib.pyplot as plt\n",
    "from matplotlib.image import imread\n",
    "import matplotlib.animation as animation\n",
    "import matplotlib.cm as cm\n",
    "import scipy\n",
    "import scipy.ndimage\n",
    "import skimage.io\n",
    "import operator as op\n",
    "import itertools as it\n",
    "from PIL import Image\n",
    "from skimage.segmentation import slic\n",
    "from skimage.segmentation import mark_boundaries\n",
    "from skimage import morphology\n",
    "# plt.rcParams['figure.figsize'] = [20, 20]"
   ]
  },
  {
   "cell_type": "markdown",
   "metadata": {},
   "source": [
    "### 1) Load the 100 pairs of corresponding 2-D and 3-D points in the files 2Dpoints.txt and 3Dpoints.txt (the ith row of both files corresponds to the ith point). Use these point correspondences to solve (using Eigen-analysis) for the camera matrix P (whose rasterized vector p has a unit L 2 norm). [5 pts]"
   ]
  },
  {
   "cell_type": "code",
   "execution_count": 29,
   "metadata": {},
   "outputs": [
    {
     "name": "stdout",
     "output_type": "stream",
     "text": [
      "(100, 2)\n",
      "(100, 3)\n"
     ]
    }
   ],
   "source": [
    "points2D = np.loadtxt('2Dpoints.txt')\n",
    "points3D = np.loadtxt('3Dpoints.txt')\n",
    "print(points2D.shape)\n",
    "print(points3D.shape)"
   ]
  },
  {
   "cell_type": "code",
   "execution_count": 30,
   "metadata": {},
   "outputs": [],
   "source": [
    "def xRow(point2d, point3d):\n",
    "    # first 4 term\n",
    "    row = np.zeros(12)\n",
    "    for i in range(3):\n",
    "        row[i] = point3d[i]\n",
    "    row[3] = 1\n",
    "    # last 4 terms\n",
    "    for i in range(8,row.shape[0] - 1):\n",
    "        row[i] = -point3d[i - 8] * point2d[0]\n",
    "    row[11] = -point2d[0]\n",
    "    return row\n",
    "    \n",
    "def yRow(point2d, point3d):\n",
    "     # 2nd 4 term\n",
    "    row = np.zeros(12)\n",
    "    for i in range(4,7):\n",
    "        row[i] = point3d[i - 4]\n",
    "    row[7] = 1\n",
    "    # last 4 terms\n",
    "    for i in range(8, row.shape[0] - 1):\n",
    "        row[i] = - point3d[i - 8] * point2d[1]\n",
    "    row[11] = -point2d[1]\n",
    "    return row\n",
    "    \n",
    "def matrixA(points2D, points3D):\n",
    "    A = np.zeros((2*points2D.shape[0], 12)) # A matrix with all the necessary parameters\n",
    "    i = 0\n",
    "    j = 0\n",
    "    while i < A.shape[0]:\n",
    "        A[i] = xRow(points2D[j,:], points3D[j,:])\n",
    "        A[i+1]= yRow(points2D[j,:], points3D[j,:])\n",
    "        j+=1\n",
    "        i+=2\n",
    "    return A\n",
    "        "
   ]
  },
  {
   "cell_type": "code",
   "execution_count": 31,
   "metadata": {},
   "outputs": [],
   "source": [
    "def normalized(a, axis=-1, order=2):\n",
    "    l2 = np.atleast_1d(np.linalg.norm(a, order, axis))\n",
    "    l2[l2==0] = 1\n",
    "    return a / np.expand_dims(l2, axis)\n",
    "\n",
    "def solveP(points2D, points3D):\n",
    "    A = matrixA(points2D, points3D) # A matrix with all the necessary parameters\n",
    "    eigVals, eigVec = np.linalg.eig(np.matmul(np.transpose(A), A))\n",
    "    minEigVal = np.argmin(eigVals)\n",
    "    minEigVec = np.real(eigVec[:,minEigVal])\n",
    "    minEigVec = normalized(minEigVec)\n",
    "    return minEigVec.reshape(3,4)\n"
   ]
  },
  {
   "cell_type": "code",
   "execution_count": 32,
   "metadata": {},
   "outputs": [
    {
     "name": "stdout",
     "output_type": "stream",
     "text": [
      "[[ 2.12334889e-03  2.03515474e-03  1.66866146e-03 -9.12330958e-01]\n",
      " [-6.18914672e-04  1.38208139e-04  2.75872598e-03 -4.09429271e-01]\n",
      " [ 4.24766779e-06 -2.12817126e-06  3.68288121e-06 -6.69669251e-04]]\n"
     ]
    }
   ],
   "source": [
    "P = solveP(points2D, points3D)\n",
    "np.savetxt('p1_p.txt',P)\n",
    "print(P)\n"
   ]
  },
  {
   "cell_type": "markdown",
   "metadata": {},
   "source": [
    "#### p:\n",
    "    2.123348892023897618e-03 2.035154742075957063e-03 1.668661464237990600e-03 -9.123309575941531691e-01\n",
    "    -6.189146719843439601e-04 1.382081393968451026e-04 2.758725976879107620e-03 -4.094292706927471492e-01\n",
    "    4.247667790058750471e-06 -2.128171259131838817e-06 3.682881210460582797e-06 -6.696692505603117716e-04\n",
    "\n"
   ]
  },
  {
   "cell_type": "markdown",
   "metadata": {},
   "source": [
    "### 2) Given the computed matrix P (from Problem 1), project the 3-D homogeneous points (X i ,Y i ,Zi ,1) to 2-D. Compute the sum-of-squared error (sum-of-squared Euclidean distances) between the resulting 3-D-to-2-D projected points and the given 2-D points (ensure all 2-D points are inhomogeneous). [3 pts]"
   ]
  },
  {
   "cell_type": "code",
   "execution_count": 33,
   "metadata": {},
   "outputs": [],
   "source": [
    "def inhomogenize(x):\n",
    "    h = np.zeros((x.shape[0], x.shape[1] -1))\n",
    "    for j in range(x.shape[1] - 1):\n",
    "        h[:,j] = np.divide(x[:,j], x[:,x.shape[1] - 1]).reshape(x.shape[0])\n",
    "    return h\n",
    "def sse(x,y):\n",
    "    return np.sum(np.square(x-y))"
   ]
  },
  {
   "cell_type": "code",
   "execution_count": 34,
   "metadata": {},
   "outputs": [
    {
     "name": "stdout",
     "output_type": "stream",
     "text": [
      "SSE: 18.744283194638644\n"
     ]
    }
   ],
   "source": [
    "points3DHomogenous = np.concatenate([points3D, np.ones((points3D.shape[0],1))], axis=1) # get homogenous\n",
    "projected3Dto2d = np.transpose(np.matmul(P, np.transpose(points3DHomogenous))) # flip it back to the same original dimension\n",
    "inhomogenous2D = inhomogenize(projected3Dto2d)\n",
    "print(\"SSE:\",sse(inhomogenous2D,points2D))"
   ]
  },
  {
   "cell_type": "markdown",
   "metadata": {},
   "source": [
    "##### SSE of 3D-to-2D Points: 18.744, which is pretty low error for sum of squared errors across 100 points with massive values."
   ]
  },
  {
   "cell_type": "markdown",
   "metadata": {},
   "source": [
    "### 3) The file homography.txt contains 15 corresponding 2-D points from two different images, where the first and second columns correspond to the x and y coordinates of the points in the first image and the third and fourth columns correspond to the x and y coordinates of the points in the second image. Load the 2-D point sets and use the Normalized Direct Linear Transformation algorithm to compute the final homography H that maps the original points from image 1 to image 2 (i.e., make sure P 2 = HP 1 ). [5 pts]"
   ]
  },
  {
   "cell_type": "code",
   "execution_count": 35,
   "metadata": {},
   "outputs": [],
   "source": [
    "def xHRow(p1, p2):\n",
    "    # first 3 term\n",
    "    row = np.zeros(9)\n",
    "    for i in range(2):\n",
    "        row[i] = p1[0,i]\n",
    "    row[2] = 1\n",
    "    # last 3 terms\n",
    "    for i in range(6,row.shape[0] - 1):\n",
    "        row[i] = -p1[0,i - 6] * p2[0,0]\n",
    "    row[8] = -p2[0,0]\n",
    "    return row\n",
    "    \n",
    "def yHRow(p1, p2):\n",
    "\n",
    "     # 2nd 3 term\n",
    "    row = np.zeros(9)\n",
    "    for i in range(3,5):\n",
    "        row[i] = p1[0,i - 3]\n",
    "    row[5] = 1\n",
    "    # last 3 terms\n",
    "    for i in range(6, row.shape[0] - 1):\n",
    "        row[i] = -p1[0,i - 6] * p2[0,1]\n",
    "    row[8] = -p2[0,1]\n",
    "    return row\n",
    "    \n",
    "def matrixAH(p1, p2):\n",
    "    A = np.zeros((2*p1.shape[0], 9)) # A matrix with all the necessary parameters\n",
    "    i = 0\n",
    "    j = 0\n",
    "    while i < A.shape[0]:\n",
    "        A[i,:] = xHRow(p1[j,:], p2[j,:])\n",
    "        A[i+1,:]= yHRow(p1[j,:], p2[j,:])\n",
    "        j+=1\n",
    "        i+=2\n",
    "    return A\n",
    "        \n",
    "def normalizeT(p):\n",
    "    mean = np.mean(p, axis=0)\n",
    "    s = np.square(p-mean)\n",
    "    s = s[:,0] + s[:,1]\n",
    "    s = np.sqrt(s)\n",
    "    s = np.sum(s)\n",
    "    s = s / p.shape[0]\n",
    "    s = np.sqrt(2) / s\n",
    "    return np.matrix([[s, 0, -s*mean[0]],[0,s,-s*mean[1]],[0,0,1]]) \n",
    "        \n",
    "\n",
    "def solveH(points1, points2):\n",
    "    tA = normalizeT(points1)\n",
    "    tB = normalizeT(points2)\n",
    "    tP1 = np.concatenate([points1, np.ones((points1.shape[0],1))], axis=1)\n",
    "    tP2 = np.concatenate([points2, np.ones((points1.shape[0],1))], axis=1)\n",
    "    tP1 = np.transpose(np.matmul(tA, np.transpose(tP1)))\n",
    "    tP2 = np.transpose(np.matmul(tB, np.transpose(tP2))) \n",
    "    A = matrixAH(tP1, tP2) # A matrix with all the necessary parameters\n",
    "    eigVals, eigVec = np.linalg.eig(np.matmul(np.transpose(A), A))\n",
    "    minEigVal = np.argmin(eigVals)\n",
    "    minEigVec = np.real(eigVec[:,minEigVal])\n",
    "    # now get original homography transformation\n",
    "    return np.linalg.inv(tB) @ (minEigVec.reshape(3,3) @ tA)"
   ]
  },
  {
   "cell_type": "code",
   "execution_count": 36,
   "metadata": {},
   "outputs": [
    {
     "name": "stdout",
     "output_type": "stream",
     "text": [
      "(15, 4)\n"
     ]
    }
   ],
   "source": [
    "homographyData = np.loadtxt('homography.txt', delimiter=',')\n",
    "print(homographyData.shape)"
   ]
  },
  {
   "cell_type": "code",
   "execution_count": 37,
   "metadata": {},
   "outputs": [
    {
     "name": "stdout",
     "output_type": "stream",
     "text": [
      "[[ 3.87480204e-01  4.84207998e-01 -2.13950934e+01]\n",
      " [-6.08850486e-02  2.70882946e-01  9.04191215e+01]\n",
      " [ 2.64281729e-04  3.34607182e-04  4.07209735e-01]]\n"
     ]
    }
   ],
   "source": [
    "points1 = homographyData[:,0:2]\n",
    "points2 = homographyData[:,2:4]\n",
    "H = solveH(points1, points2)\n",
    "print(H)\n",
    "np.savetxt('p2_H.txt', H)"
   ]
  },
  {
   "cell_type": "markdown",
   "metadata": {},
   "source": [
    "##### H:\n",
    "    [[ 3.87480204e-01  4.84207998e-01 -2.13950934e+01]\n",
    "    [-6.08850486e-02  2.70882946e-01  9.04191215e+01]\n",
    "    [ 2.64281729e-04  3.34607182e-04  4.07209735e-01]]"
   ]
  },
  {
   "cell_type": "markdown",
   "metadata": {},
   "source": [
    "### 4) Plot the points from image 2 and the projected points from image 1 on the same plot. Make sure the projected points are converted into inhomogeneous form. [1 pt]"
   ]
  },
  {
   "cell_type": "code",
   "execution_count": 38,
   "metadata": {},
   "outputs": [],
   "source": [
    "points1Homogenous = np.concatenate([points1, np.ones((points1.shape[0],1))], axis=1) # get homogenous\n",
    "projected1to2 = np.transpose(np.matmul(H, np.transpose(points1Homogenous))) # flip it back to the same original dimension\n",
    "inhomogenous1to2 = inhomogenize(projected1to2)"
   ]
  },
  {
   "cell_type": "code",
   "execution_count": 39,
   "metadata": {},
   "outputs": [
    {
     "data": {
      "image/png": "[encoded data removed]",
      "text/plain": [
       "<Figure size 432x288 with 1 Axes>"
      ]
     },
     "metadata": {
      "needs_background": "light"
     },
     "output_type": "display_data"
    }
   ],
   "source": [
    "a = plt.scatter(points2[:,0], points2[:,1], color='b', label='Image 2')\n",
    "b = plt.scatter(inhomogenous1to2[:,0], inhomogenous1to2[:,1], color='r', label= 'Projected from image 1')\n",
    "plt.legend()\n",
    "plt.savefig('p2_plot.png')"
   ]
  },
  {
   "cell_type": "markdown",
   "metadata": {},
   "source": [
    "### 5) Compute the sum-of-squared error (sum-of-squared Euclidean distances) between the actual points from image 2 and the projected points from image 1. [2 pts]"
   ]
  },
  {
   "cell_type": "code",
   "execution_count": 40,
   "metadata": {},
   "outputs": [
    {
     "name": "stdout",
     "output_type": "stream",
     "text": [
      "SSE: 105.97387926939282\n"
     ]
    }
   ],
   "source": [
    "print(\"SSE:\",sse(inhomogenous1to2, points2))"
   ]
  },
  {
   "cell_type": "markdown",
   "metadata": {},
   "source": [
    "##### Discussion for both methods (P and H):\n",
    "\n",
    "##### Regarding the P method, the error was fairly small in terms of the projected 2D points and the ground truth 2D points of 18.7. We can consider this error to be fairly small given that most of the coordinates in 3D were in the thousands and the 2D points in the hundreds. As a reminder, the sqrt(25) = 5, so for context, we have an even smaller error in terms of distance between the projection and the ground truth. This is pretty good considering how many assumptions we make in the context of this problem. \n",
    "\n",
    "##### Regarding the H (normalized direct linear transformation) method, similar to how the P method, we construct another transformation matrix but this time we don't have a 4th column in the transformation matrix H for the extra dimension that we're projecting down from. However, interestingly enough, the SSE is greater at 105, which is pretty substantial despite the plotted projection being very close to the actual image 2 on the plot above. Then again, this may make sense as we make a substantial \"poster\" assumption on the points/ image we're looking at! "
   ]
  }
 ],
 "metadata": {
  "kernelspec": {
   "display_name": "Python 3.9.6 ('PytorchBasics')",
   "language": "python",
   "name": "python3"
  },
  "language_info": {
   "codemirror_mode": {
    "name": "ipython",
    "version": 3
   },
   "file_extension": ".py",
   "mimetype": "text/x-python",
   "name": "python",
   "nbconvert_exporter": "python",
   "pygments_lexer": "ipython3",
   "version": "3.9.6"
  },
  "orig_nbformat": 4,
  "vscode": {
   "interpreter": {
    "hash": "d67f9c819f1245d39383cf14027afb44a89c9a91dd93617a62572f60583be1bf"
   }
  }
 },
 "nbformat": 4,
 "nbformat_minor": 2
}
