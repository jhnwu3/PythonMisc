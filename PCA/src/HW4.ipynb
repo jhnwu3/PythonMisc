{
 "cells": [
  {
   "cell_type": "markdown",
   "metadata": {},
   "source": [
    "# John Wu\n",
    "# CSE 5524\n",
    "# 9/12/22\n",
    "### Libraries"
   ]
  },
  {
   "cell_type": "code",
   "execution_count": 106,
   "metadata": {},
   "outputs": [],
   "source": [
    "import numpy as np\n",
    "import matplotlib.pyplot as plt\n",
    "from matplotlib.image import imread"
   ]
  },
  {
   "cell_type": "markdown",
   "metadata": {},
   "source": [
    "#### 1.) Write a function to compute the 7 similitude moment shape descriptors. Test and compare results on the rectangle box images ‘boxIm[1-4].bmp’ on the website (you are to provide the 7 computed moment values). Normalize each image before computing the moments so that the range of grayscale values is between 0-1. How do the moments change across the box images? Why are some moments zero? Please make sure your function will work with non-binary (grayscale) imagery, as you will need this for later assignments (do not use Matlab’s regionprops function). [4 pts]"
   ]
  },
  {
   "cell_type": "markdown",
   "metadata": {},
   "source": [
    "##### We will first define the function for similitude moments."
   ]
  },
  {
   "cell_type": "code",
   "execution_count": 107,
   "metadata": {},
   "outputs": [],
   "source": [
    "# we will define some helper functions\n",
    "# centroids \n",
    "def sum_column_pixel(image): # x-bar\n",
    "    rows = image.shape[0]\n",
    "    cols = image.shape[1]\n",
    "    mean = 0\n",
    "    for r in range(rows):\n",
    "        for c in range(cols): # x\n",
    "            mean += c*image[r,c]\n",
    "    return mean\n",
    "            \n",
    "def sum_row_pixels(image): # y-bar\n",
    "    rows = image.shape[0]\n",
    "    cols = image.shape[1]\n",
    "    mean = 0\n",
    "    for r in range(rows): # y\n",
    "        for c in range(cols): \n",
    "            mean += r*image[r,c]\n",
    "    return mean \n",
    "\n",
    "# central moments\n",
    "def central_moment(image, colBar, rowBar, i, j):\n",
    "    rows = image.shape[0]\n",
    "    cols = image.shape[1]\n",
    "    moment = 0\n",
    "    for r in range(rows): # y\n",
    "        for c in range(cols): # x (x-column is i, y-row is j)\n",
    "            moment +=  np.power((c-colBar),i) * np.power((r-rowBar),j) * image[r,c]\n",
    "    return moment\n",
    "\n",
    "def denominatorTerm(sumPixels, i, j):\n",
    "    return np.power(sumPixels, ((i+j) / 2.0) + 1)\n",
    "\n",
    "# fortunately we have a specific set of similitude moments\n",
    "def similitude_moments(image):\n",
    "    tot = np.sum(image)\n",
    "    colBar = sum_column_pixel(image) / tot\n",
    "    rowBar = sum_row_pixels(image) / tot\n",
    "\n",
    "    # hardcoded\n",
    "    colMoments = np.array([0,0,1,1,2,2,3])\n",
    "    rowMoments = np.array([2,3,1,2,0,1,0])\n",
    "    nMoments = colMoments.shape[0]\n",
    "    similitudeMoments = np.zeros(nMoments)\n",
    "    for moment in range(nMoments):\n",
    "        similitudeMoments[moment] = central_moment(image, colBar, rowBar,\n",
    "                                    colMoments[moment], rowMoments[moment]) \n",
    "        similitudeMoments[moment] /= denominatorTerm(tot,colMoments[moment], \n",
    "                                                     rowMoments[moment])\n",
    "    \n",
    "    return similitudeMoments "
   ]
  },
  {
   "cell_type": "markdown",
   "metadata": {},
   "source": [
    "##### Now, let's import the images and normalize them."
   ]
  },
  {
   "cell_type": "code",
   "execution_count": 108,
   "metadata": {},
   "outputs": [
    {
     "name": "stdout",
     "output_type": "stream",
     "text": [
      "(150, 200, 4)\n",
      "0.0\n",
      "1.0\n"
     ]
    }
   ],
   "source": [
    "# we can normalize all grayscale values by dividing by (pixel - min) / (max - min)\n",
    "def normalize_grayscale(im):\n",
    "    minPixel = 0\n",
    "    maxPixel = 255\n",
    "    return np.divide((im - minPixel), maxPixel - minPixel )\n",
    "\n",
    "nImgs = 4\n",
    "fileName = 'boxIm'\n",
    "im = plt.imread('boxIm1.bmp') # get the first image for dimensions\n",
    "allBoxIm = np.ndarray((im.shape[0], im.shape[1],nImgs))\n",
    "\n",
    "for i in range(1,nImgs + 1):\n",
    "    allBoxIm[:,:, i - 1] = plt.imread(fileName + str(i) + '.bmp')\n",
    "    \n",
    "\n",
    "for i in range(nImgs):\n",
    "    allBoxIm[:,:, i] = normalize_grayscale(allBoxIm[:,:,i])\n",
    "\n",
    "print(allBoxIm.shape)\n",
    "print(np.min(allBoxIm))\n",
    "print(np.max(allBoxIm))\n",
    "    "
   ]
  },
  {
   "cell_type": "markdown",
   "metadata": {},
   "source": [
    "#### We will now compute similitude moments for all 4 images and compare!\n",
    "\n",
    "#### For the first image boxIm1, we have the image along with its similitude moments below."
   ]
  },
  {
   "cell_type": "code",
   "execution_count": 109,
   "metadata": {},
   "outputs": [
    {
     "name": "stdout",
     "output_type": "stream",
     "text": [
      "Moments: [0.04215598 0.         0.         0.         0.16460905 0.\n",
      " 0.        ]\n"
     ]
    },
    {
     "data": {
      "text/plain": [
       "<matplotlib.image.AxesImage at 0x22129c81a90>"
      ]
     },
     "execution_count": 109,
     "metadata": {},
     "output_type": "execute_result"
    },
    {
     "data": {
      "image/png": "[encoded data removed]",
      "text/plain": [
       "<Figure size 432x288 with 1 Axes>"
      ]
     },
     "metadata": {
      "needs_background": "light"
     },
     "output_type": "display_data"
    }
   ],
   "source": [
    "print(\"Moments:\",similitude_moments(allBoxIm[:,:,0]))\n",
    "plt.imshow(allBoxIm[:,:,0], cmap='gray')"
   ]
  },
  {
   "cell_type": "markdown",
   "metadata": {},
   "source": [
    "#### For the second image boxIm2, we have the image along with its similitude moments below."
   ]
  },
  {
   "cell_type": "code",
   "execution_count": 110,
   "metadata": {},
   "outputs": [
    {
     "name": "stdout",
     "output_type": "stream",
     "text": [
      "Moments: [0.04215598 0.         0.         0.         0.16460905 0.\n",
      " 0.        ]\n"
     ]
    },
    {
     "data": {
      "text/plain": [
       "<matplotlib.image.AxesImage at 0x22129cf34f0>"
      ]
     },
     "execution_count": 110,
     "metadata": {},
     "output_type": "execute_result"
    },
    {
     "data": {
      "image/png": "[encoded data removed]",
      "text/plain": [
       "<Figure size 432x288 with 1 Axes>"
      ]
     },
     "metadata": {
      "needs_background": "light"
     },
     "output_type": "display_data"
    }
   ],
   "source": [
    "print(\"Moments:\",similitude_moments(allBoxIm[:,:,1]))\n",
    "plt.imshow(allBoxIm[:,:,1], cmap='gray')"
   ]
  },
  {
   "cell_type": "markdown",
   "metadata": {},
   "source": [
    "#### For the third image boxIm3, we have the image along with its similitude moments below."
   ]
  },
  {
   "cell_type": "code",
   "execution_count": 111,
   "metadata": {},
   "outputs": [
    {
     "name": "stdout",
     "output_type": "stream",
     "text": [
      "Moments: [0.04226884 0.         0.         0.         0.16410256 0.\n",
      " 0.        ]\n"
     ]
    },
    {
     "data": {
      "text/plain": [
       "<matplotlib.image.AxesImage at 0x22129d59f40>"
      ]
     },
     "execution_count": 111,
     "metadata": {},
     "output_type": "execute_result"
    },
    {
     "data": {
      "image/png": "[encoded data removed]",
      "text/plain": [
       "<Figure size 432x288 with 1 Axes>"
      ]
     },
     "metadata": {
      "needs_background": "light"
     },
     "output_type": "display_data"
    }
   ],
   "source": [
    "print(\"Moments:\",similitude_moments(allBoxIm[:,:,2]))\n",
    "plt.imshow(allBoxIm[:,:,2], cmap='gray')"
   ]
  },
  {
   "cell_type": "markdown",
   "metadata": {},
   "source": [
    "#### For the final image boxIm4, we have the image along with its similitude moments below."
   ]
  },
  {
   "cell_type": "code",
   "execution_count": 112,
   "metadata": {},
   "outputs": [
    {
     "name": "stdout",
     "output_type": "stream",
     "text": [
      "Moments: [0.16460905 0.         0.         0.         0.04215598 0.\n",
      " 0.        ]\n"
     ]
    },
    {
     "data": {
      "text/plain": [
       "<matplotlib.image.AxesImage at 0x22129dc79d0>"
      ]
     },
     "execution_count": 112,
     "metadata": {},
     "output_type": "execute_result"
    },
    {
     "data": {
      "image/png": "[encoded data removed]",
      "text/plain": [
       "<Figure size 432x288 with 1 Axes>"
      ]
     },
     "metadata": {
      "needs_background": "light"
     },
     "output_type": "display_data"
    }
   ],
   "source": [
    "print(\"Moments:\",similitude_moments(allBoxIm[:,:,3]))\n",
    "plt.imshow(allBoxIm[:,:,3], cmap='gray')"
   ]
  },
  {
   "cell_type": "markdown",
   "metadata": {},
   "source": [
    "### Summary and Discussion:\n",
    "\n",
    "##### Now let's first summarize the moments and then let's discuss which similitude moments the non-zero values are. \n",
    "\n",
    "| image  | n02        | n03 | n11 | n12 | n20        | n21 | n30 |\n",
    "|--------|------------|-----|-----|-----|------------|-----|-----|\n",
    "| boxIm1 | 0.04215598 | 0   | 0   | 0   | 0.16460905 | 0   | 0   |\n",
    "| boxIm2 | 0.04215598 | 0   | 0   | 0   | 0.16460905 | 0   | 0   |\n",
    "| boxIm3 | 0.04226884 | 0   | 0   | 0   | 0.16410256 | 0   | 0   |\n",
    "| boxIm4 | 0.16460905 | 0   | 0   | 0   | 0.04215598 | 0   | 0   |\n",
    "\n",
    "##### In this case, for all 4 box images, the only non-zero similitude moments are the first and fifth moments, which correspond to the (ij), (02) and (20) respectively. These moments provide information specifically about the top versus down (02) and side to side shapes (20). In other words, they provide insights on the x,y axis shapes of the images respectively. This makes sense, because we are looking at rectangles, which don't have \"round\" (or any other shape) features on the diagonal corners (or edges). This lack of diagonal features correspond to the 0 moments seen in the table above. \n",
    "\n",
    "##### Furthermore, since similitude moments are invariant to translation and scale, we can see that the n02, and n20 values are at least almost the same for boxIm1, boxIm2, and boxIm3. These almost equal values makes sense, because the difference between boxIm2 and boxIm1 is that boxIm2 is just boxIm1 translated towards the top left. Similarly, observe that boxIm3 is just a scaled version of boxIm1, which validates that similitude moments are scale invariant. \n",
    "\n",
    "##### On the other hand, boxIm4 has its moments flipped between n02 and n20, which also makes sense as boxIm4 is just boxIm1 rotated. Similitude moments are not invariant to rotations, but in this case, the flipped values make sense, as now the width of boxIm1 is the height of boxIm4, and the height of boxIm1 is the width of boxIm4.\n",
    "\n",
    "\n"
   ]
  },
  {
   "cell_type": "markdown",
   "metadata": {},
   "source": [
    "### 2.) Using the datafile (eigdata.txt) provided on the WWW site, perform the following MATLAB commands [1 pt]\n",
    "\n",
    "    %% Load the data\n",
    "    clear; close all;\n",
    "    load eigdata.txt;\n",
    "    X = eigdata;\n",
    "    subplot(2,1,1);\n",
    "    plot(X(:,1),X(:,2),'b.');\n",
    "    axis(‘equal’);\n",
    "    \n",
    "    %% mean-subtract data\n",
    "    m = mean(X);\n",
    "    Y = X – ones(size(X,1),1)*m;\n",
    "    subplot(2,1,2);\n",
    "    plot(Y(:,1),Y(:,2),'r.');\n",
    "    axis(‘equal’);\n",
    "\n",
    "    In our case, we will try to do this in python."
   ]
  },
  {
   "cell_type": "code",
   "execution_count": 113,
   "metadata": {},
   "outputs": [
    {
     "data": {
      "image/png": "[encoded data removed]",
      "text/plain": [
       "<Figure size 432x288 with 2 Axes>"
      ]
     },
     "metadata": {
      "needs_background": "light"
     },
     "output_type": "display_data"
    }
   ],
   "source": [
    "X = np.loadtxt('eigdata.txt') # notice how we set X to be the eigData\n",
    "plt.figure()\n",
    "plt.subplot(2,1,1)\n",
    "plt.plot(X[:,0], X[:,1], 'b.')\n",
    "plt.axis('equal')\n",
    "\n",
    "m = np.mean(X,axis=0)\n",
    "\n",
    "means = np.ones(X.shape)\n",
    "means[:,0] = m[0] * means[:,0] # make sure 1st column mean\n",
    "means[:,1] = m[1] * means[:,1] # make sure 2nd column mean\n",
    "Y = X - means\n",
    "\n",
    "plt.subplot(2,1,2)\n",
    "plt.plot(Y[:,0], Y[:,1], 'r.')\n",
    "plt.axis('equal')\n",
    "plt.savefig('Problem2Displayed.png')\n"
   ]
  },
  {
   "cell_type": "markdown",
   "metadata": {},
   "source": [
    "##### Quick Note: All values are now centered around the origin.\n",
    "### 3.) Compute the eigenvalues (V) and eigenvectors (U) of the data (stored in Y) using the function eig() in Matlab (recall that you use either the covariance matrix or the inverse-covariance matrix of the data – see class notes). Plot the mean-subtracted data Y and the 2-D Gaussian ellipse axes for given the eigenvectors in U (you can use the plot command in Matlab for this. Make sure the axes have equal scale in the plot!). Use the eigenvalues in V to give the appropriate 3σ (standard deviation - not variance!) length to each axis (did you compute the eigenvalues from the covariance or inverse covariance of Y? The eigenvalues will be related but different! See class notes). [4 pts]\n",
    "\n",
    "    [Note: it would also be nice to draw the 3σ ellipse around Y if you can – Google ‘matlab ellipse.m’ for some Matlab code if you are interested.]"
   ]
  },
  {
   "cell_type": "code",
   "execution_count": 114,
   "metadata": {},
   "outputs": [],
   "source": [
    "# found a way to plot ellipses based on eigenvalues and eigenvectors \n",
    "def plot_ellipse(eigenvalues, eigenvectors):\n",
    "    theta = np.linspace(0, 2*np.pi, 1000);\n",
    "    ellipsis = (np.sqrt(eigenvalues[None,:]) * eigenvectors) \n",
    "    ellipsis = ellipsis @ [np.sin(theta), np.cos(theta)]\n",
    "    plt.plot(ellipsis[0,:], ellipsis[1,:])\n",
    " "
   ]
  },
  {
   "cell_type": "code",
   "execution_count": 115,
   "metadata": {},
   "outputs": [
    {
     "name": "stdout",
     "output_type": "stream",
     "text": [
      "EigenVectors: [[ 0.71259733  0.70157327]\n",
      " [-0.70157327  0.71259733]]\n",
      "EigenValues: [24.13847816  1.01422313]\n"
     ]
    },
    {
     "data": {
      "image/png": "[encoded data removed]",
      "text/plain": [
       "<Figure size 432x288 with 1 Axes>"
      ]
     },
     "metadata": {
      "needs_background": "light"
     },
     "output_type": "display_data"
    }
   ],
   "source": [
    "V, U = np.linalg.eig(np.cov(Y.transpose())) # get the eigenvalues and eigenvectors\n",
    "C = 9 # number of standard deviations is sqrt(9) = 3 sigma\n",
    "print('EigenVectors:',U) # axes stored in U\n",
    "print('EigenValues:', V) # magnitudes are sqrt(C*lambda, eigen values in U)\n",
    "plt.figure()\n",
    "origin = 0 # origin point\n",
    "# this is the magnitude of the length of each axis given standard deviation\n",
    "magnitude = np.sqrt(C*V)\n",
    "eigenVec1 = magnitude[0] * U[:,0]\n",
    "eigenVec2 = magnitude[1] * U[:,1]\n",
    "\n",
    "# plot the data points with the eigen vectors\n",
    "plt.scatter(Y[:,0], Y[:,1], color='red')\n",
    "# note that python does a very wacky way to plot vectors, i.e first two define X,Y points for origin, the next 2 define the 2 points of vector.\n",
    "plt.quiver(origin, origin, eigenVec1[0], eigenVec1[1], angles='xy', \n",
    "           scale_units='xy', scale=1)\n",
    "plt.quiver(origin, origin, eigenVec2[0], eigenVec2[1], angles='xy', \n",
    "           scale_units='xy', scale=1)\n",
    "# I literally found a function online for plotting ellipses, note we just pass in the C*V\n",
    "plot_ellipse(C*V, U)\n",
    "plt.axis('equal')\n",
    "plt.savefig('Problem3.png')"
   ]
  },
  {
   "cell_type": "markdown",
   "metadata": {},
   "source": [
    "##### Quick self-notes: Looks like we capture around 99% of the data with both our ellipse and \"gaussian\" axes. \n",
    "\n",
    "### 4.) Rotate Y using the eigenvectors to make the data uncorrelated (i.e., project data Y onto the eigenvectors – see class slides). Plot the results (using equal scale axes as before). [2 pts]"
   ]
  },
  {
   "cell_type": "code",
   "execution_count": 116,
   "metadata": {},
   "outputs": [
    {
     "name": "stdout",
     "output_type": "stream",
     "text": [
      "(1000, 2)\n"
     ]
    },
    {
     "data": {
      "image/png": "[encoded data removed]",
      "text/plain": [
       "<Figure size 432x288 with 1 Axes>"
      ]
     },
     "metadata": {
      "needs_background": "light"
     },
     "output_type": "display_data"
    }
   ],
   "source": [
    "rotatedY = np.matmul(Y, U) # Y ~ Nx2 * 2x2 = Nx2\n",
    "print(rotatedY.shape)\n",
    "plt.scatter(rotatedY[:,0], rotatedY[:,1], color='red')\n",
    "plt.xlabel('First Column of Y Data Projected Onto EigenVectors')\n",
    "plt.ylabel('Second Column of Y Data Projected Onto EigenVectors')\n",
    "plt.axis('equal')\n",
    "plt.savefig('Problem4RotatedY.png')"
   ]
  },
  {
   "cell_type": "markdown",
   "metadata": {},
   "source": [
    "### Quick Note:\n",
    "##### Through this multiplication, observe that we have rotated it such that it's no longer \"diagonal\" and it's horizontal without a clear correlation.\n",
    "\n",
    "### 5.) Perform a simple data reduction technique by keeping only the values resulting from projection of Y onto the eigenvector corresponding the largest eigenvalue of the covariance (not inverse-covariance) matrix. Plot a 1-D histogram of the values. Does it look like a 1-D Gaussian? [1 pt]"
   ]
  },
  {
   "cell_type": "code",
   "execution_count": 117,
   "metadata": {},
   "outputs": [
    {
     "data": {
      "image/png": "[encoded data removed]",
      "text/plain": [
       "<Figure size 432x288 with 1 Axes>"
      ]
     },
     "metadata": {
      "needs_background": "light"
     },
     "output_type": "display_data"
    }
   ],
   "source": [
    "maxEigValue = 0 # note that we only have 2 eigenvalues\n",
    "for i in range(V.shape[0]):\n",
    "    if V[maxEigValue] < V[i]:\n",
    "        maxEigValue = i\n",
    "rotatedYReduced = rotatedY[:,maxEigValue]\n",
    "plt.hist(rotatedYReduced,bins=15) # note by default, only 10 bins are used. We pick 15.\n",
    "plt.ylabel(\"Count\")\n",
    "plt.xlabel('Value of Y data of Largest Eigenvalue')\n",
    "plt.savefig('Problem5Histogram')\n"
   ]
  },
  {
   "cell_type": "markdown",
   "metadata": {},
   "source": [
    "### Quick Summary/Discussion:\n",
    "##### Cool enough, the range of values of the axis with the largest variance matches the one seen in problem 4! It's also interesting to note that it does indeed look like a gaussian (centered around 0), which also makes sense due to the elliptical shape seen above. I would presume depending on the number of clusters, this would change from dataset to dataset."
   ]
  }
 ],
 "metadata": {
  "kernelspec": {
   "display_name": "Python 3.9.13 64-bit (microsoft store)",
   "language": "python",
   "name": "python3"
  },
  "language_info": {
   "codemirror_mode": {
    "name": "ipython",
    "version": 3
   },
   "file_extension": ".py",
   "mimetype": "text/x-python",
   "name": "python",
   "nbconvert_exporter": "python",
   "pygments_lexer": "ipython3",
   "version": "3.9.13"
  },
  "orig_nbformat": 4,
  "vscode": {
   "interpreter": {
    "hash": "7f935cdba2cd475ff724752c268a9e5cecd019a3100893fcbb0a51cb029d1e78"
   }
  }
 },
 "nbformat": 4,
 "nbformat_minor": 2
}
